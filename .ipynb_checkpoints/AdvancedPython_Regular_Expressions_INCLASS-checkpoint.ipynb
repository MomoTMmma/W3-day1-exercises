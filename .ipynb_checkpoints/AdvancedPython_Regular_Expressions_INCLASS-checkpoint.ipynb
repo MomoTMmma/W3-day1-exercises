{
 "cells": [
  {
   "cell_type": "markdown",
   "metadata": {},
   "source": [
    "# Regular Expressions"
   ]
  },
  {
   "cell_type": "markdown",
   "metadata": {},
   "source": [
    "# Tasks today:\n",
    "1) <b>Importing</b> <br>\n",
    "2) <b>Using Regular Expressions</b> <br>\n",
    " &nbsp;&nbsp;&nbsp;&nbsp; a) re.compile() <br>\n",
    " &nbsp;&nbsp;&nbsp;&nbsp; b) re.match() <br>\n",
    " &nbsp;&nbsp;&nbsp;&nbsp; c) re.findall() <br>\n",
    " &nbsp;&nbsp;&nbsp;&nbsp; d) re.search() <br>\n",
    "3) <b>Sets</b> <br>\n",
    " &nbsp;&nbsp;&nbsp;&nbsp; a) Integer Ranges <br>\n",
    " &nbsp;&nbsp;&nbsp;&nbsp; b) Character Ranges <br>\n",
    "4) <b>Counting Occurences</b> <br>\n",
    " &nbsp;&nbsp;&nbsp;&nbsp; a) {x} <br>\n",
    " &nbsp;&nbsp;&nbsp;&nbsp; b) {, x} <br>\n",
    " &nbsp;&nbsp;&nbsp;&nbsp; c) {?} <br>\n",
    " &nbsp;&nbsp;&nbsp;&nbsp; d) {*} <br>\n",
    " &nbsp;&nbsp;&nbsp;&nbsp; e) {+} <br>\n",
    "5) <b>In-Class Exercise #1</b> <br>\n",
    "6) <b>Escaping Characters</b> <br>\n",
    "7) <b>Grouping</b> <br>\n",
    "8) <b>In-Class Exercise #2</b> <br>\n",
    "9) <b>Opening a File</b> <br>\n",
    " &nbsp;&nbsp;&nbsp;&nbsp; a) open() <br>\n",
    " &nbsp;&nbsp;&nbsp;&nbsp; b) with open() <br>\n",
    " &nbsp;&nbsp;&nbsp;&nbsp; c) re.match() <br>\n",
    " &nbsp;&nbsp;&nbsp;&nbsp; d) re.search() <br>\n",
    " &nbsp;&nbsp;&nbsp;&nbsp; e) Store the String in a Variable <br>\n",
    "10) <b>Regex Project</b> <br>"
   ]
  },
  {
   "cell_type": "markdown",
   "metadata": {},
   "source": [
    "### Importing <br>\n",
    "<p>Regular Expressions are universal throughout most programming languages... They are generally imported through the module 're'.</p>"
   ]
  },
  {
   "cell_type": "code",
   "execution_count": 3,
   "metadata": {},
   "outputs": [],
   "source": [
    "# import re\n",
    "import re\n",
    "\n",
    "#The goal is to filter text- pattern recognition"
   ]
  },
  {
   "cell_type": "markdown",
   "metadata": {},
   "source": [
    "### Using Regular Expressions <br>\n",
    "<p>Regular expressions give us the ability to search for patterns within text, strings, files, etc. They serve several uses, such as; security measures, searching, filtering, pattern recognition, and more...</p>"
   ]
  },
  {
   "cell_type": "markdown",
   "metadata": {},
   "source": [
    "##### re.compile()"
   ]
  },
  {
   "cell_type": "code",
   "execution_count": 5,
   "metadata": {},
   "outputs": [
    {
     "name": "stdout",
     "output_type": "stream",
     "text": [
      "re.compile('abcd')\n",
      "<class 're.Pattern'>\n"
     ]
    },
    {
     "data": {
      "text/plain": [
       "re.compile(r'abcd', re.UNICODE)"
      ]
     },
     "execution_count": 5,
     "metadata": {},
     "output_type": "execute_result"
    }
   ],
   "source": [
    "# using compile, predetermines the string to be used in regular expression methods\n",
    "\n",
    "pattern = re.compile('abcd')\n",
    "print(pattern)\n",
    "print(type(pattern))\n",
    "pattern"
   ]
  },
  {
   "cell_type": "markdown",
   "metadata": {},
   "source": [
    "##### re.match()"
   ]
  },
  {
   "cell_type": "code",
   "execution_count": 7,
   "metadata": {},
   "outputs": [
    {
     "name": "stdout",
     "output_type": "stream",
     "text": [
      "<re.Match object; span=(0, 4), match='abcd'>\n",
      "(0, 4)\n"
     ]
    }
   ],
   "source": [
    "# Since we have a class object, it has methods(and attributes)\n",
    "\n",
    "match = pattern.match('abcd1234')\n",
    "#this could be this simple string, or an enitre book.\n",
    "print(match)\n",
    "\n",
    "print(match.span())\n",
    "\n"
   ]
  },
  {
   "cell_type": "markdown",
   "metadata": {},
   "source": [
    "##### re.findall()"
   ]
  },
  {
   "cell_type": "code",
   "execution_count": 14,
   "metadata": {},
   "outputs": [
    {
     "name": "stdout",
     "output_type": "stream",
     "text": [
      "['abcd', 'abcd', 'abcd', 'abcd']\n"
     ]
    }
   ],
   "source": [
    "finders = pattern.findall('123abcd abcd123 abcd abcdabc acb')\n",
    "print(finders)"
   ]
  },
  {
   "cell_type": "markdown",
   "metadata": {},
   "source": [
    "##### re.search()"
   ]
  },
  {
   "cell_type": "code",
   "execution_count": 13,
   "metadata": {},
   "outputs": [
    {
     "name": "stdout",
     "output_type": "stream",
     "text": [
      "<re.Match object; span=(1, 5), match='abcd'>\n",
      "<re.Match object; span=(12, 16), match='abcd'>\n",
      "abcd\n"
     ]
    }
   ],
   "source": [
    "match = pattern.search('3abcd1234')\n",
    "#this could be this simple string, or an enitre book.\n",
    "print(match)\n",
    "\n",
    "rando_string = '123 123 234 abcd abcdfjs abc'\n",
    "\n",
    "search = pattern.search(rando_string)\n",
    "span = search.span()\n",
    "print(search)\n",
    "print(rando_string[span[0]:span[1]])"
   ]
  },
  {
   "cell_type": "markdown",
   "metadata": {},
   "source": [
    "### Sets <br>\n",
    "<p>The following cells will allow you to use regular expressions to search for certain values within a range such as numbers 1 through 4.</p>"
   ]
  },
  {
   "cell_type": "markdown",
   "metadata": {},
   "source": [
    "##### [a-z] or [A-Z] - any lowercase/uppercase letters from a to z<br/>[^2] - anything that's not 2"
   ]
  },
  {
   "cell_type": "markdown",
   "metadata": {},
   "source": [
    "##### Integer Ranges"
   ]
  },
  {
   "cell_type": "code",
   "execution_count": 19,
   "metadata": {},
   "outputs": [
    {
     "name": "stdout",
     "output_type": "stream",
     "text": [
      "<re.Match object; span=(0, 3), match='673'>\n",
      "['673', '383']\n",
      "<re.Match object; span=(17, 22), match='50311'>\n"
     ]
    }
   ],
   "source": [
    "pattern_int = re.compile('[0-7][7-9][0-3]')\n",
    "\n",
    "rando_nums = pattern_int.search('67383')\n",
    "print(rando_nums)\n",
    "\n",
    "find_randos = pattern_int.findall('67383833')\n",
    "print(find_randos)\n",
    "\n",
    "\n",
    "patt_zip = re.compile('5031[0-3]')\n",
    "match2 = patt_zip.search('5425135718733245450311546781686581')\n",
    "print(match2)\n",
    "\n"
   ]
  },
  {
   "cell_type": "markdown",
   "metadata": {},
   "source": [
    "##### Character Ranges"
   ]
  },
  {
   "cell_type": "code",
   "execution_count": 20,
   "metadata": {},
   "outputs": [
    {
     "name": "stdout",
     "output_type": "stream",
     "text": [
      "['He', 'Th']\n"
     ]
    }
   ],
   "source": [
    "# [A-Z][a-z]\n",
    "\n",
    "char_pattern = re.compile('[A-Z][a-z]')\n",
    "\n",
    "# found = char_pattern.findall('hello there random person!')\n",
    "found = char_pattern.findall('Hello There random person!')\n",
    "print(found)\n"
   ]
  },
  {
   "cell_type": "markdown",
   "metadata": {},
   "source": [
    "### Counting Occurences"
   ]
  },
  {
   "cell_type": "markdown",
   "metadata": {},
   "source": [
    "##### {x} - something that occurs {num_of_times}"
   ]
  },
  {
   "cell_type": "code",
   "execution_count": 23,
   "metadata": {},
   "outputs": [
    {
     "name": "stdout",
     "output_type": "stream",
     "text": [
      "['Oo33', 'Um33']\n"
     ]
    }
   ],
   "source": [
    "char_pattern_count = re.compile('[A-Z][a-z][0-3]{2}')\n",
    "\n",
    "found_count = char_pattern_count.findall('I said HellOo33 to NUm33 on the sportsball team')\n",
    "print(found_count)"
   ]
  },
  {
   "cell_type": "markdown",
   "metadata": {},
   "source": [
    "##### {x, x} - something that occurs between x and x times"
   ]
  },
  {
   "cell_type": "code",
   "execution_count": 24,
   "metadata": {},
   "outputs": [
    {
     "name": "stdout",
     "output_type": "stream",
     "text": [
      "['m', 'm', 'm', 'mm', 'mmm']\n"
     ]
    }
   ],
   "source": [
    "random_pattern = re.compile('m{1,5}')\n",
    "\n",
    "\n",
    "some_statement = random_pattern.findall(\"This is a some contrived example of a regular expression trying to find an m, or mm or mmm's\")\n",
    "print(some_statement)"
   ]
  },
  {
   "cell_type": "code",
   "execution_count": null,
   "metadata": {},
   "outputs": [],
   "source": [
    "# example of min \n",
    "# random_pattern = re.compile('m{1,}')"
   ]
  },
  {
   "cell_type": "code",
   "execution_count": null,
   "metadata": {},
   "outputs": [],
   "source": [
    "# example of max \n",
    "# random_pattern = re.compile('m{,5}')"
   ]
  },
  {
   "cell_type": "markdown",
   "metadata": {},
   "source": [
    "##### ? - something that occurs 0 or 1 time"
   ]
  },
  {
   "cell_type": "code",
   "execution_count": 25,
   "metadata": {},
   "outputs": [
    {
     "name": "stdout",
     "output_type": "stream",
     "text": [
      "['Mrs']\n"
     ]
    }
   ],
   "source": [
    "another_pattern = re.compile('Mrss?')\n",
    "found_patt = another_pattern.findall('Mr. Anderson, Mrs. Anderson, Ms. Anderson?')\n",
    "\n",
    "print(found_patt)"
   ]
  },
  {
   "cell_type": "markdown",
   "metadata": {},
   "source": [
    "##### * - something that occurs at least 0 times"
   ]
  },
  {
   "cell_type": "code",
   "execution_count": 27,
   "metadata": {},
   "outputs": [
    {
     "name": "stdout",
     "output_type": "stream",
     "text": [
      "['MMMs', 's', 'Ms', 's', 's', 'Ms', 's', 's', 's', 's', 's', 's']\n"
     ]
    }
   ],
   "source": [
    "pattern = re.compile('M*s')\n",
    "found_patt2 = pattern.findall('MMMs name is Ms.Smith, this is Msssssss')\n",
    "print(found_patt2)"
   ]
  },
  {
   "cell_type": "markdown",
   "metadata": {},
   "source": [
    "##### + - something that occurs at least once"
   ]
  },
  {
   "cell_type": "code",
   "execution_count": 28,
   "metadata": {},
   "outputs": [
    {
     "name": "stdout",
     "output_type": "stream",
     "text": [
      "['Ms', 'Ms']\n"
     ]
    }
   ],
   "source": [
    "pattern_again = re.compile('M+s')\n",
    "next_found = pattern_again.findall('My name is Ms.Smith. this is Msssss')\n",
    "print(next_found)"
   ]
  },
  {
   "cell_type": "markdown",
   "metadata": {},
   "source": [
    "##### In-class exercise 1: \n",
    "\n",
    "Use a regular expression to find every number in the given string"
   ]
  },
  {
   "cell_type": "code",
   "execution_count": 36,
   "metadata": {},
   "outputs": [
    {
     "name": "stdout",
     "output_type": "stream",
     "text": [
      "['10909090', '1', '2']\n"
     ]
    }
   ],
   "source": [
    "string = \"This string has 10909090 numbers, but it is only 1 string. I hope you solve this 2day.\"\n",
    "\n",
    "# Output: ['10909090','1',2]\n",
    "string = re.compile('[0-9]{1,8}')\n",
    "find_nums = string.findall(\"This string has 10909090 numbers, but it is only 1 string. I hope you solve this 2day.\")\n",
    "print(find_nums)"
   ]
  },
  {
   "cell_type": "markdown",
   "metadata": {},
   "source": [
    "### Escaping Characters"
   ]
  },
  {
   "cell_type": "markdown",
   "metadata": {},
   "source": [
    "##### \\w - look for any Unicode character<br/>\\W - look for anything that isnt a Unicode character\n",
    "\n",
    "[History on Unicode](http://unicode.org/standard/WhatIsUnicode.html)\n",
    "\n",
    "[More on Unicode Characters](https://en.wikipedia.org/wiki/List_of_Unicode_characters)"
   ]
  },
  {
   "cell_type": "code",
   "execution_count": 41,
   "metadata": {},
   "outputs": [
    {
     "name": "stdout",
     "output_type": "stream",
     "text": [
      "['This', 'is', 'a', 'sentence', 'With', 'an', 'exclamation', 'mark', 'at', 'the', 'end', '1234']\n",
      "[' ', ' ', ' ', '. ', ' ', ', ', ' ', ' ', ' ', ' ', '! ']\n"
     ]
    }
   ],
   "source": [
    "# \\n \\t \\b \\\\\n",
    "#print(f'hey it\\'s a werid string example \\n\\n\\nspace\\n\\n\\n\\ttabtab')\n",
    "\n",
    "pattern1 = re.compile('[\\w]+')\n",
    "pattern2 = re.compile('[\\W]+')\n",
    "\n",
    "found_1 = pattern1.findall('This is a sentence. With an, exclamation mark at the end! 1234')\n",
    "found_2 = pattern2.findall('This is a sentence. With an, exclamation mark at the end! 1234')\n",
    "\n",
    "print(found_1)\n",
    "print(found_2)"
   ]
  },
  {
   "cell_type": "markdown",
   "metadata": {},
   "source": [
    "##### \\d - look for any digit 0-9<br/>\\D - look for anything that isnt a digit"
   ]
  },
  {
   "cell_type": "code",
   "execution_count": 43,
   "metadata": {},
   "outputs": [
    {
     "name": "stdout",
     "output_type": "stream",
     "text": [
      "['Toda', 'y is', ' the', ', in', 'days', ' it', ' wil', 'l be', ' the']\n"
     ]
    }
   ],
   "source": [
    "#num_pattern = re.compile('\\d{1,2}[a-z]{2}')\n",
    "num_pattern = re.compile('\\D{1,2}[a-z]{2}')\n",
    "found_date = num_pattern.findall('Today is the 6th, in 20days it will be the 26th. 3rd, 1st')\n",
    "print(found_date)"
   ]
  },
  {
   "cell_type": "markdown",
   "metadata": {},
   "source": [
    "##### \\s - look for any white space<br/>\\S - look for anything that isnt whitespace"
   ]
  },
  {
   "cell_type": "code",
   "execution_count": 46,
   "metadata": {},
   "outputs": [
    {
     "name": "stdout",
     "output_type": "stream",
     "text": [
      "[' ', ' ', ' ', ' ', ' ']\n",
      "['Are', 'you', 'afraid', 'of', 'the', 'dark']\n",
      "[' ', ' ', ' ', '\\n\\n\\n', ' ', ' ', ' ', ' ', ' ', ' ', ' ', ' ', ' ']\n",
      "['This', 'is', 'paragrph', 'Look', 'there', 'was', 'return', 'and', 'it', \"'s\", 'still', 'string']\n"
     ]
    }
   ],
   "source": [
    "patt_no_space = re.compile('\\S[a-z]+')\n",
    "patt_space = re.compile('\\s+')\n",
    "\n",
    "found_space = patt_space.findall('Are you afraid of the dark?')\n",
    "found_no_space = patt_no_space.findall('Are you afraid of the dark?')\n",
    "\n",
    "print(found_space)\n",
    "print(found_no_space)\n",
    "\n",
    "pgraph = \"\"\"This is a paragrph!\n",
    "\n",
    "\n",
    "Look, there was a return and it's still a string\"\"\"\n",
    "\n",
    "print(patt_space.findall(pgraph))\n",
    "print(patt_no_space.findall(pgraph))"
   ]
  },
  {
   "cell_type": "markdown",
   "metadata": {},
   "source": [
    "##### \\b - look for boundaries or edges of a word<br/>\\B - look for anything that isnt a boundary"
   ]
  },
  {
   "cell_type": "code",
   "execution_count": 4,
   "metadata": {},
   "outputs": [
    {
     "name": "stdout",
     "output_type": "stream",
     "text": [
      "[]\n",
      "['TheCodingTemple']\n",
      "['hello']\n",
      "[]\n"
     ]
    }
   ],
   "source": [
    "# print(r'\\bTheCodingTemple\\b')\n",
    "\n",
    "pattern_bound = re.compile(r'\\bTheCodingTemple\\b')\n",
    "pattern_bound_none = re.compile(r'\\BTheCodingTemple\\B')\n",
    "\n",
    "no_found_bound = pattern_bound_none.findall('TheCodingTemple')\n",
    "found_bound = pattern_bound.findall('TheCodingTemple')\n",
    "\n",
    "print(no_found_bound)\n",
    "print(found_bound)\n",
    "\n",
    "hi_str = 'hello world'\n",
    "\n",
    "patt1 = re.compile(r'\\bhello\\b')\n",
    "patt2 = re.compile(r'\\Bhello\\B')\n",
    "\n",
    "print(patt1.findall(hi_str))\n",
    "print(patt2.findall(hi_str))"
   ]
  },
  {
   "cell_type": "markdown",
   "metadata": {},
   "source": [
    "### Grouping"
   ]
  },
  {
   "cell_type": "code",
   "execution_count": 63,
   "metadata": {},
   "outputs": [
    {
     "name": "stdout",
     "output_type": "stream",
     "text": [
      "[('Max', 'Smith'), ('aaron', 'rodgers'), ('Sam', 'Darnold'), ('LeBron', 'James'), ('Micheal', 'Jordan'), ('Kevin', 'Durant'), ('Patrick', 'McCormick')]\n",
      "<re.Match object; span=(0, 9), match='Max Smith'>\n",
      "\n",
      "\n",
      "Max Smith\n",
      "('Max', 'Smith')\n",
      "Max\n",
      "('Max', 'Smith')\n",
      "\n",
      "\tEXAMPLE for later use!!!!\n",
      "Max / Smith - - > ('Max', 'Smith') or Max Smith\n",
      "<re.Match object; span=(1, 14), match='aaron rodgers'>\n",
      "\n",
      "\n",
      "aaron rodgers\n",
      "('aaron', 'rodgers')\n",
      "aaron\n",
      "('aaron', 'rodgers')\n",
      "\n",
      "\tEXAMPLE for later use!!!!\n",
      "aaron / rodgers - - > ('aaron', 'rodgers') or aaron rodgers\n",
      "<re.Match object; span=(1, 12), match='Sam Darnold'>\n",
      "\n",
      "\n",
      "Sam Darnold\n",
      "('Sam', 'Darnold')\n",
      "Sam\n",
      "('Sam', 'Darnold')\n",
      "\n",
      "\tEXAMPLE for later use!!!!\n",
      "Sam / Darnold - - > ('Sam', 'Darnold') or Sam Darnold\n",
      "<re.Match object; span=(0, 12), match='LeBron James'>\n",
      "\n",
      "\n",
      "LeBron James\n",
      "('LeBron', 'James')\n",
      "LeBron\n",
      "('LeBron', 'James')\n",
      "\n",
      "\tEXAMPLE for later use!!!!\n",
      "LeBron / James - - > ('LeBron', 'James') or LeBron James\n",
      "<re.Match object; span=(1, 15), match='Micheal Jordan'>\n",
      "\n",
      "\n",
      "Micheal Jordan\n",
      "('Micheal', 'Jordan')\n",
      "Micheal\n",
      "('Micheal', 'Jordan')\n",
      "\n",
      "\tEXAMPLE for later use!!!!\n",
      "Micheal / Jordan - - > ('Micheal', 'Jordan') or Micheal Jordan\n",
      "<re.Match object; span=(1, 13), match='Kevin Durant'>\n",
      "\n",
      "\n",
      "Kevin Durant\n",
      "('Kevin', 'Durant')\n",
      "Kevin\n",
      "('Kevin', 'Durant')\n",
      "\n",
      "\tEXAMPLE for later use!!!!\n",
      "Kevin / Durant - - > ('Kevin', 'Durant') or Kevin Durant\n",
      "<re.Match object; span=(1, 18), match='Patrick McCormick'>\n",
      "\n",
      "\n",
      "Patrick McCormick\n",
      "('Patrick', 'McCormick')\n",
      "Patrick\n",
      "('Patrick', 'McCormick')\n",
      "\n",
      "\tEXAMPLE for later use!!!!\n",
      "Patrick / McCormick - - > ('Patrick', 'McCormick') or Patrick McCormick\n"
     ]
    }
   ],
   "source": [
    "my_string_again = \"Max Smith, aaron rodgers, Sam Darnold,LeBron James, Micheal Jordan, Kevin Durant, Patrick McCormick\"\n",
    "\n",
    "# Group of names Regular Expression Compiler\n",
    "\n",
    "\n",
    "#last_pattern = re.compile('[A-Z][a-z]+ [A-Z][a-z]+')\n",
    "last_pattern = re.compile('([A-Za-z][a-zA-Z]+) ([A-Za-z][A-za-z]+)')\n",
    "\n",
    "\n",
    "last_found = last_pattern.findall(my_string_again)\n",
    "print(last_found)\n",
    "\n",
    "# print(my_string_again.split(','))\n",
    "for name in my_string_again.split(','):\n",
    "    match = last_pattern.search(name)\n",
    "    print(match)\n",
    "    print('\\n')\n",
    "      \n",
    "    if match:\n",
    "        print(match.group())\n",
    "        print(match.groups())\n",
    "        print(match.group(1))\n",
    "        print(match.groups(2))\n",
    "        print('\\n\\tEXAMPLE for later use!!!!')\n",
    "        print(f\"{match.group(1)} / {match.group(2)} - - > {match.groups()} or {match.group()}\")\n",
    "        \n",
    "    else: \n",
    "        print('Not a Valid name!!')\n",
    "        \n",
    "  \n"
   ]
  },
  {
   "cell_type": "markdown",
   "metadata": {},
   "source": [
    "##### In-class Exercise 2:\n",
    "\n",
    "Write a function using regular expressions to find the domain name in the given email addresses (and return None for the invalid email addresses)<br><b>HINT: Use '|' for either or</b>"
   ]
  },
  {
   "cell_type": "code",
   "execution_count": 79,
   "metadata": {},
   "outputs": [
    {
     "name": "stdout",
     "output_type": "stream",
     "text": [
      "[]\n",
      "Not a vaild email\n",
      "pocohontas1776@gmail.com\n",
      "Not a vaild email\n",
      "yourfavoriteband@g6.org\n",
      "Not a vaild email\n"
     ]
    }
   ],
   "source": [
    "my_emails = [\"shohat@codingcodingsummit.orgcom\", \"pocohontas1776@gmail.com\", \"helloworld@aol..com\",\n",
    "             \"yourfavoriteband@g6.org\", \"@codingsummit.com\"]\n",
    "\n",
    "# You can also use the $ at the end of your compile expression -- this stops the search\n",
    "\n",
    "#.com or .org => com|org\n",
    "\n",
    "#Expected output:\n",
    "#None\n",
    "#pocohontas1776@gmail.com\n",
    "#None\n",
    "#yourfavoriteband@g6.org\n",
    "#None\n",
    "email_pattern = re.compile('([a-zA-Z0-9]+)@([a-zA-Z0-9]+).(com|org)$')\n",
    "emails_found = email_pattern.findall(my_emails[4])\n",
    "print(emails_found)\n",
    "\n",
    "for email in my_emails:\n",
    "    pattern = re.compile('([a-zA-Z0-9]+)@([a-zA-Z0-9]+).(com|org)$')\n",
    "    if pattern.match(email):\n",
    "        print(email)\n",
    "    else:\n",
    "        print('Not a vaild email')"
   ]
  },
  {
   "cell_type": "markdown",
   "metadata": {},
   "source": [
    "### Opening a File <br>\n",
    "<p>Python gives us a couple ways to import files, below are the two used most often.</p>"
   ]
  },
  {
   "cell_type": "markdown",
   "metadata": {},
   "source": [
    "##### open()"
   ]
  },
  {
   "cell_type": "code",
   "execution_count": 81,
   "metadata": {},
   "outputs": [
    {
     "ename": "FileNotFoundError",
     "evalue": "[Errno 2] No such file or directory: 'name.txt'",
     "output_type": "error",
     "traceback": [
      "\u001b[0;31m---------------------------------------------------------------------------\u001b[0m",
      "\u001b[0;31mFileNotFoundError\u001b[0m                         Traceback (most recent call last)",
      "\u001b[0;32m/var/folders/ff/tzt384m93h9d9cqb6stcvb980000gn/T/ipykernel_76635/629238609.py\u001b[0m in \u001b[0;36m<module>\u001b[0;34m\u001b[0m\n\u001b[0;32m----> 1\u001b[0;31m \u001b[0mf\u001b[0m \u001b[0;34m=\u001b[0m \u001b[0mopen\u001b[0m\u001b[0;34m(\u001b[0m\u001b[0;34m'name.txt'\u001b[0m\u001b[0;34m)\u001b[0m\u001b[0;34m\u001b[0m\u001b[0;34m\u001b[0m\u001b[0m\n\u001b[0m\u001b[1;32m      2\u001b[0m \u001b[0mprint\u001b[0m\u001b[0;34m(\u001b[0m\u001b[0mf\u001b[0m\u001b[0;34m)\u001b[0m\u001b[0;34m\u001b[0m\u001b[0;34m\u001b[0m\u001b[0m\n",
      "\u001b[0;31mFileNotFoundError\u001b[0m: [Errno 2] No such file or directory: 'name.txt'"
     ]
    }
   ],
   "source": [
    "f = open('name.txt')\n",
    "print(f)\n",
    "data = f.read()\n",
    "print(data)\n",
    "f.close() #make sure to close the file or we might overwrite data!"
   ]
  },
  {
   "cell_type": "markdown",
   "metadata": {},
   "source": [
    "##### with open()"
   ]
  },
  {
   "cell_type": "code",
   "execution_count": 82,
   "metadata": {},
   "outputs": [
    {
     "ename": "FileNotFoundError",
     "evalue": "[Errno 2] No such file or directory: 'name.txt'",
     "output_type": "error",
     "traceback": [
      "\u001b[0;31m---------------------------------------------------------------------------\u001b[0m",
      "\u001b[0;31mFileNotFoundError\u001b[0m                         Traceback (most recent call last)",
      "\u001b[0;32m/var/folders/ff/tzt384m93h9d9cqb6stcvb980000gn/T/ipykernel_76635/2087898255.py\u001b[0m in \u001b[0;36m<module>\u001b[0;34m\u001b[0m\n\u001b[0;32m----> 1\u001b[0;31m \u001b[0;32mwith\u001b[0m \u001b[0mopen\u001b[0m\u001b[0;34m(\u001b[0m\u001b[0;34m'name.txt'\u001b[0m\u001b[0;34m)\u001b[0m \u001b[0;32mas\u001b[0m \u001b[0mfile\u001b[0m\u001b[0;34m:\u001b[0m\u001b[0;34m\u001b[0m\u001b[0;34m\u001b[0m\u001b[0m\n\u001b[0m\u001b[1;32m      2\u001b[0m     \u001b[0mdata\u001b[0m \u001b[0;34m=\u001b[0m \u001b[0mfile\u001b[0m\u001b[0;34m.\u001b[0m\u001b[0mreadlines\u001b[0m\u001b[0;34m(\u001b[0m\u001b[0;34m)\u001b[0m\u001b[0;34m\u001b[0m\u001b[0;34m\u001b[0m\u001b[0m\n\u001b[1;32m      3\u001b[0m     \u001b[0mprint\u001b[0m\u001b[0;34m(\u001b[0m\u001b[0mdata\u001b[0m\u001b[0;34m)\u001b[0m\u001b[0;34m\u001b[0m\u001b[0;34m\u001b[0m\u001b[0m\n",
      "\u001b[0;31mFileNotFoundError\u001b[0m: [Errno 2] No such file or directory: 'name.txt'"
     ]
    }
   ],
   "source": [
    "with open('name.txt') as file:\n",
    "    data = file.readlines() #read. or readlines depending on use case\n",
    "    print(data)"
   ]
  },
  {
   "cell_type": "markdown",
   "metadata": {},
   "source": [
    "##### re.match()"
   ]
  },
  {
   "cell_type": "code",
   "execution_count": 83,
   "metadata": {},
   "outputs": [
    {
     "name": "stdout",
     "output_type": "stream",
     "text": [
      "<re.Match object; span=(0, 2), match='th'>\n",
      "<re.Match object; span=(0, 2), match='th'>\n"
     ]
    }
   ],
   "source": [
    "# instead of doing this\n",
    "pat = re.compile('[a-z]{2}')\n",
    "string = 'this is the string we want to use'\n",
    "res = pat.match(string)\n",
    "\n",
    "res2 = re.match(r'[a-z]{2}', string)\n",
    "\n",
    "print(res)\n",
    "print(res2)"
   ]
  },
  {
   "cell_type": "markdown",
   "metadata": {},
   "source": [
    "##### re.search()"
   ]
  },
  {
   "cell_type": "code",
   "execution_count": null,
   "metadata": {},
   "outputs": [],
   "source": [
    "#same as above!!!\n",
    "\n",
    "\n",
    "string = 'this is the string we want to use'\n",
    "\n",
    "\n",
    "res3 = re.search(r'[a-z]{2}', string)\n",
    "\n",
    "print(res3)\n",
    "#print(re.search(r'tryanb@codingtemple.com', data))\n"
   ]
  },
  {
   "cell_type": "markdown",
   "metadata": {},
   "source": [
    "##### Store the String to a Variable"
   ]
  },
  {
   "cell_type": "code",
   "execution_count": null,
   "metadata": {},
   "outputs": [],
   "source": [
    "with open('name.txt') as f:\n",
    "    data = f.read()\n",
    "\n",
    "answer = input('What would you like to search for?')\n",
    "\n",
    "found = re.findall(answer, data)\n",
    "\n",
    "if found:\n",
    "    print(f\"I found your data!!! {found}\")\n",
    "else:\n",
    "    print('nope, could not find it!')"
   ]
  },
  {
   "cell_type": "markdown",
   "metadata": {},
   "source": [
    "### In-Class Exercise #3 <br>\n",
    "<p>Print each persons name and twitter handle, using groups, should look like:</p>\n",
    "<p>==============<br>\n",
    "   Full Name / Twitter<br>\n",
    "   ==============</p>\n",
    "Derek Hawkins / @derekhawkins\n",
    "\n",
    " Erik Sven-Osterberg / @sverik\n",
    " \n",
    " Ryan Butz / @ryanbutz\n",
    " \n",
    " Example Exampleson / @example\n",
    " \n",
    " Ripal Pael / @ripalp\n",
    " \n",
    " Darth Vader / @darthvader"
   ]
  },
  {
   "cell_type": "code",
   "execution_count": 5,
   "metadata": {
    "scrolled": true
   },
   "outputs": [
    {
     "name": "stdout",
     "output_type": "stream",
     "text": [
      "[]\n"
     ]
    },
    {
     "ename": "TypeError",
     "evalue": "expected string or bytes-like object",
     "output_type": "error",
     "traceback": [
      "\u001b[0;31m---------------------------------------------------------------------------\u001b[0m",
      "\u001b[0;31mTypeError\u001b[0m                                 Traceback (most recent call last)",
      "\u001b[0;32m/var/folders/ff/tzt384m93h9d9cqb6stcvb980000gn/T/ipykernel_83092/3750878397.py\u001b[0m in \u001b[0;36m<module>\u001b[0;34m\u001b[0m\n\u001b[1;32m      8\u001b[0m \u001b[0;32mfor\u001b[0m \u001b[0mn\u001b[0m \u001b[0;32min\u001b[0m \u001b[0mnames\u001b[0m\u001b[0;34m:\u001b[0m\u001b[0;34m\u001b[0m\u001b[0;34m\u001b[0m\u001b[0m\n\u001b[1;32m      9\u001b[0m     \u001b[0mpattern\u001b[0m \u001b[0;34m=\u001b[0m \u001b[0mre\u001b[0m\u001b[0;34m.\u001b[0m\u001b[0mcompile\u001b[0m\u001b[0;34m(\u001b[0m\u001b[0;34m'([a-zA-Z]+)@([a-zA-Z]+)$'\u001b[0m\u001b[0;34m)\u001b[0m\u001b[0;34m\u001b[0m\u001b[0;34m\u001b[0m\u001b[0m\n\u001b[0;32m---> 10\u001b[0;31m     \u001b[0;32mif\u001b[0m \u001b[0mpattern\u001b[0m\u001b[0;34m.\u001b[0m\u001b[0mmatch\u001b[0m\u001b[0;34m(\u001b[0m\u001b[0mnames\u001b[0m\u001b[0;34m)\u001b[0m\u001b[0;34m:\u001b[0m\u001b[0;34m\u001b[0m\u001b[0;34m\u001b[0m\u001b[0m\n\u001b[0m\u001b[1;32m     11\u001b[0m         \u001b[0mprint\u001b[0m\u001b[0;34m(\u001b[0m\u001b[0mnames\u001b[0m\u001b[0;34m)\u001b[0m\u001b[0;34m\u001b[0m\u001b[0;34m\u001b[0m\u001b[0m\n\u001b[1;32m     12\u001b[0m     \u001b[0;32melse\u001b[0m\u001b[0;34m:\u001b[0m\u001b[0;34m\u001b[0m\u001b[0;34m\u001b[0m\u001b[0m\n",
      "\u001b[0;31mTypeError\u001b[0m: expected string or bytes-like object"
     ]
    }
   ],
   "source": [
    "import re\n",
    "\n",
    "names = [\"Derek Hawkins|@derekhawkins\", \"Erik Sven-Osterberg|@sverik\", \"Ryan Buts|@ryanbutz\", \"Example Exampleson|@example\", \"Ripal Pael|@ripalp\", \"Darth Vader|@darthvader\"]\n",
    "names_pattern = re.compile('([a-zA-Z]+)@([a-zA-Z]+)$')\n",
    "names_found = names_pattern.findall(names[5])\n",
    "print(names_found)\n",
    "\n",
    "for n in names:\n",
    "    pattern = re.compile('([a-zA-Z]+)@([a-zA-Z]+)$')\n",
    "    if pattern.match(names):\n",
    "        print(names)\n",
    "    else:\n",
    "        print('Not a vaild name or handle')\n",
    "\n"
   ]
  },
  {
   "cell_type": "markdown",
   "metadata": {},
   "source": [
    "### Regex project\n",
    "\n",
    "Use python to read the file regex_test.txt and print the last name on each line using regular expressions and groups (return None for names with no first and last name, or names that aren't properly capitalized)\n",
    "##### Hint: use with open() and readlines()"
   ]
  },
  {
   "cell_type": "code",
   "execution_count": 3,
   "metadata": {},
   "outputs": [
    {
     "data": {
      "text/plain": [
       "'\\nExpected Output\\nAbraham Lincoln\\nAndrew P Garfield\\nConnor Milliken\\nJordan Alexander Williams\\nNone\\nNone\\n'"
      ]
     },
     "execution_count": 3,
     "metadata": {},
     "output_type": "execute_result"
    }
   ],
   "source": [
    "\"\"\"\n",
    "Expected Output\n",
    "Abraham Lincoln\n",
    "Andrew P Garfield\n",
    "Connor Milliken\n",
    "Jordan Alexander Williams\n",
    "None\n",
    "None\n",
    "\"\"\""
   ]
  },
  {
   "cell_type": "code",
   "execution_count": 1,
   "metadata": {},
   "outputs": [],
   "source": [
    "import re"
   ]
  },
  {
   "cell_type": "code",
   "execution_count": 2,
   "metadata": {},
   "outputs": [
    {
     "name": "stdout",
     "output_type": "stream",
     "text": [
      "['Abraham Lincoln\\n', 'Andrew P Garfield\\n', 'Connor Milliken\\n', 'Jordan Alexander Williams\\n', 'Madonna\\n', 'programming is cool\\n']\n"
     ]
    }
   ],
   "source": [
    "with open('regex_test.txt') as file:\n",
    "    data = file.readlines()\n",
    "    print(data)"
   ]
  },
  {
   "cell_type": "code",
   "execution_count": 6,
   "metadata": {},
   "outputs": [
    {
     "name": "stdout",
     "output_type": "stream",
     "text": [
      "['Abraham Lincoln', 'Connor Milliken', 'Jordan Alexander']\n"
     ]
    }
   ],
   "source": [
    "my_string = \"Abraham Lincoln, Andrew P Garfield, Connor Milliken, Jordan Alexander Williams, Madonna, programming is cool\"\n",
    "\n",
    "\n",
    "\n",
    "last_pattern = re.compile('[A-Z][a-z]+ [A-Z][a-z]+')\n",
    "#last_pattern = re.compile('([A-Za-z][a-zA-Z]+) ([A-Za-z][A-za-z]+)')\n",
    "\n",
    "last_found = last_pattern.findall(my_string)\n",
    "print(last_found)\n",
    "\n",
    "\n",
    "    \n",
    "    \n",
    "\n"
   ]
  }
 ],
 "metadata": {
  "kernelspec": {
   "display_name": "Python 3 (ipykernel)",
   "language": "python",
   "name": "python3"
  },
  "language_info": {
   "codemirror_mode": {
    "name": "ipython",
    "version": 3
   },
   "file_extension": ".py",
   "mimetype": "text/x-python",
   "name": "python",
   "nbconvert_exporter": "python",
   "pygments_lexer": "ipython3",
   "version": "3.9.13"
  }
 },
 "nbformat": 4,
 "nbformat_minor": 2
}
